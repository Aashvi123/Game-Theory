{
 "cells": [
  {
   "cell_type": "markdown",
   "metadata": {},
   "source": [
    "# Game Theory (Nash Equilbrium)"
   ]
  },
  {
   "cell_type": "markdown",
   "metadata": {},
   "source": [
    "pip install nashpy"
   ]
  },
  {
   "cell_type": "markdown",
   "metadata": {},
   "source": [
    " **This is a game where our primary motive is to find the equilibrium.**\n",
    "https://hub.gke2.mybinder.org/user/jupyterlab-jupyterlab-demo-2ujbcsdx/doc/tree/demo/a57cec0d-36ca-4575-84f5-cd1670f0e838.jfif.\n",
    "The payoff to Player A will be 4 and player B will be 2 as you can see in Fig 2.This particular game has a very simple solution. For Player A , it is always better to play “Bottom” because his payoffs (4 or 2) from this strategy is always greater than Top (2 or 0). Similarly, for Player B, it is always better to play “Left” because his payoffs (4 or 2) is always greater than (2 or 0). Hence, the equilibrium strategy is for Player A to play “Bottom” and Player B to play “Left”. This brings us to the concept of dominant strategy.\n",
    "![gt.jfif](attachment:gt.jfif)\n",
    "\n",
    "\n",
    "**Dominant strategy**: There is one optimal strategy for each player irrespective of what strategy the other player adopts. Whatever choice B makes, A should always choose Bottom and whatever choice A makes B should always choose Left.\n",
    "In this game, this is the equilibrium outcome of the game.\n",
    "\n"
   ]
  },
  {
   "cell_type": "code",
   "execution_count": 7,
   "metadata": {},
   "outputs": [],
   "source": [
    "import nashpy as ns\n"
   ]
  },
  {
   "cell_type": "code",
   "execution_count": 8,
   "metadata": {},
   "outputs": [
    {
     "data": {
      "text/plain": [
       "Bi matrix game with payoff matrices:\n",
       "\n",
       "Row player:\n",
       "[[2 0]\n",
       " [4 2]]\n",
       "\n",
       "Column player:\n",
       "[[4 2]\n",
       " [2 0]]"
      ]
     },
     "execution_count": 8,
     "metadata": {},
     "output_type": "execute_result"
    }
   ],
   "source": [
    "#create game with the payoff matrix\n",
    "import numpy as np\n",
    "A= np.array([[2,0],[4,2]])#A is the row player\n",
    "B=np.array([[4,2],[2,0]])#B is the column player\n",
    "game1=ns.Game(A,B)\n",
    "game1"
   ]
  },
  {
   "cell_type": "code",
   "execution_count": 11,
   "metadata": {},
   "outputs": [
    {
     "name": "stdout",
     "output_type": "stream",
     "text": [
      "(array([0., 1.]), array([1., 0.]))\n"
     ]
    }
   ],
   "source": [
    "#Find Nash equilibria with Support Enumeration\n",
    "equilibria=game1.support_enumeration()\n",
    "for eq in equilibria:\n",
    "    print(eq)"
   ]
  },
  {
   "cell_type": "markdown",
   "metadata": {},
   "source": [
    "Since there are 2 strategies per player- Player A has strategies (Top, Bottom) and Player B has strategies (Left, Right).The output can be interpreted as: Player A chooses strategy 2 i.e. ‘Bottom’ as given by ‘1’ in the second position of the array and Player B chooses strategy 1 i.e. ‘Left’ as given by ‘1’ in the first position of the array. Hence, as we saw earlier (Bottom, Left) is the NE or outcome of this game."
   ]
  }
 ],
 "metadata": {
  "kernelspec": {
   "display_name": "Python 3",
   "language": "python",
   "name": "python3"
  },
  "language_info": {
   "codemirror_mode": {
    "name": "ipython",
    "version": 3
   },
   "file_extension": ".py",
   "mimetype": "text/x-python",
   "name": "python",
   "nbconvert_exporter": "python",
   "pygments_lexer": "ipython3",
   "version": "3.7.6"
  }
 },
 "nbformat": 4,
 "nbformat_minor": 5
}
