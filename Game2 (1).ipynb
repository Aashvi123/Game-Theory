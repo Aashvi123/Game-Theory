{
 "cells": [
  {
   "cell_type": "markdown",
   "metadata": {},
   "source": [
    "# GAME-2"
   ]
  },
  {
   "cell_type": "markdown",
   "metadata": {},
   "source": [
    "We are taking other example In this game, if player B chooses left , then player A’s pay-offs are either 4 or 0. While, when player B chooses right, player A’s pay-offs are 0 or 2. Hence, if B chooses left A should choose Top and if B chooses Right then A should choose Bottom. This, optimal choice of A is dependent on what choice B makes. A pair of strategies is said to be Nash equilibrium (NE), if optimal choice of Player A given Player B’s choice coincides with optimal choice of Player B given Player A’s choice. In simple terms, initially neither player knows what the other player will do when deciding or making a choice. Hence NE is a pair of choices/strategies/expectations where neither player wants to change their behaviour even after the strategy/choice of the other player is revealed. In this game, strategy (Top, Left) is a Nash equilibrium because if A chooses Top, then the best thing for B is to choose Left because his pay-off for choosing left is 2 as opposed to 0 if he chooses bottom. Similarly if B chooses left then best choice for A is to choose Top, because he will get a higher pay-off of 4 if he chooses Top versus he will get 0 if he chooses Bottom. **So, can there be multiple Nash equilibrium? The answer is Yes. In this game we just discussed, in fact we have 2 Nash equilibria- the strategy (Bottom, Right) is also a NE because if A chooses Bottom, B should choose Right and vice versa"
   ]
  },
  {
   "cell_type": "code",
   "execution_count": 2,
   "metadata": {},
   "outputs": [
    {
     "name": "stdout",
     "output_type": "stream",
     "text": [
      "(array([1., 0.]), array([1., 0.]))\n",
      "(array([0., 1.]), array([0., 1.]))\n",
      "(array([0.66666667, 0.33333333]), array([0.33333333, 0.66666667]))\n"
     ]
    }
   ],
   "source": [
    "# Create the payoff matrix\n",
    "import nashpy as nm\n",
    "import numpy as np\n",
    "A = np.array([[4,0],[0,2]]) # A is the row player\n",
    "B = np.array([[2,0],[0,4]]) # B is the column player\n",
    "game2 = nm.Game(A,B)\n",
    "game2\n",
    "# Find the Nash Equilibrium with Support Enumeration\n",
    "equilibria = game2.support_enumeration()\n",
    "for eq in equilibria:\n",
    "    print(eq)"
   ]
  },
  {
   "cell_type": "markdown",
   "metadata": {},
   "source": [
    "**Interpretation**\n",
    "Player A plays strategy 1 i.e. “Top” 66.67% of the times and strategy 2 i.e. “Bottom” 33.33% of the times while Player B plays strategy 1 i.e. “Left” 33.33% of the times and strategy 2 i.e. “Right” 66.67% of the times.\n",
    "Logically also, Player A should assign higher probability to “Top” and player B to “Right” because these give them higher pay-offs.\n",
    "This equilibrium is a mixed strategy Nash equilibrium"
   ]
  }
 ],
 "metadata": {
  "kernelspec": {
   "display_name": "Python 3",
   "language": "python",
   "name": "python3"
  },
  "language_info": {
   "codemirror_mode": {
    "name": "ipython",
    "version": 3
   },
   "file_extension": ".py",
   "mimetype": "text/x-python",
   "name": "python",
   "nbconvert_exporter": "python",
   "pygments_lexer": "ipython3",
   "version": "3.7.6"
  }
 },
 "nbformat": 4,
 "nbformat_minor": 5
}
